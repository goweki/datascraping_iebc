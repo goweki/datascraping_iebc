{
 "cells": [
  {
   "cell_type": "markdown",
   "metadata": {},
   "source": [
    "# Web scrapping: IEBC form 34As\n",
    "Link: (https://forms.iebc.or.ke/#/)"
   ]
  },
  {
   "cell_type": "markdown",
   "metadata": {},
   "source": [
    "- import pandas\n",
    "\n",
    "- define URL variable, function to check URL's validity\n"
   ]
  },
  {
   "cell_type": "code",
   "execution_count": 15,
   "metadata": {},
   "outputs": [],
   "source": [
    "#import pandas as pd\n",
    "#pd.read_csv('https://www.football-data.co.uk/mmz4281/2223/E0.csv')\n",
    "\n",
    "import requests\n",
    "from urllib.request import urlopen\n",
    "from bs4 import BeautifulSoup\n",
    "baseURL = \"https://forms.iebc.or.ke/#/\"\n",
    "\n",
    "def check_validity(my_url):\n",
    "    try:\n",
    "        urlopen(my_url)\n",
    "        print(\"Valid URL\")\n",
    "    except IOError:\n",
    "        print (\"Invalid URL\")\n",
    "        sys.exit()\n"
   ]
  },
  {
   "cell_type": "markdown",
   "metadata": {},
   "source": [
    "- Read and parse website"
   ]
  },
  {
   "cell_type": "code",
   "execution_count": 20,
   "metadata": {},
   "outputs": [
    {
     "name": "stdout",
     "output_type": "stream",
     "text": [
      "<!DOCTYPE html>\n",
      "\n",
      "<html lang=\"en\">\n",
      "<head>\n",
      "<meta charset=\"utf-8\"/>\n",
      "<link href=\"/assets/logo.f354ddb2.svg\" rel=\"icon\"/>\n",
      "<meta content=\"width=device-width, initial-scale=1.0, user-scalable=no\" name=\"viewport\"/>\n",
      "<meta content=\"no-cache, no-store, must-revalidate\" http-equiv=\"Cache-control\"/>\n",
      "<meta content=\"no-cache\" http-equiv=\"Pragma\"/>\n",
      "<meta content=\"0\" http-equiv=\"expires\"/>\n",
      "<title>IEBC - Forms portal</title>\n",
      "<link href=\"https://fonts.googleapis.com\" rel=\"preconnect\"/>\n",
      "<link crossorigin=\"\" href=\"https://fonts.gstatic.com\" rel=\"preconnect\"/>\n",
      "<link href=\"https://fonts.googleapis.com/css2?family=Roboto&amp;display=swap\" rel=\"stylesheet\"/>\n",
      "<script crossorigin=\"\" src=\"/assets/index.fedf4aca.js\" type=\"module\"></script>\n",
      "<link href=\"/assets/index.95c2c34d.css\" rel=\"stylesheet\"/>\n",
      "</head>\n",
      "<body>\n",
      "<div id=\"app\"></div>\n",
      "</body>\n",
      "</html>\n",
      "\n"
     ]
    }
   ],
   "source": [
    "#read=requests.get(baseURL)\n",
    "read = requests.get(baseURL, headers={'User-Agent': 'Mozilla/5.0 (Windows NT 10.0; Win64; x64) AppleWebKit/537.36 (KHTML, like Gecko) Chrome/96.0.4664.45 Safari/537.36'})\n",
    "html=read.content\n",
    "soup = BeautifulSoup(html, features=\"html.parser\")\n",
    "#print(html)\n",
    "print(soup)"
   ]
  }
 ],
 "metadata": {
  "kernelspec": {
   "display_name": "Python 3.9.15 64-bit",
   "language": "python",
   "name": "python3"
  },
  "language_info": {
   "codemirror_mode": {
    "name": "ipython",
    "version": 3
   },
   "file_extension": ".py",
   "mimetype": "text/x-python",
   "name": "python",
   "nbconvert_exporter": "python",
   "pygments_lexer": "ipython3",
   "version": "3.8.10"
  },
  "orig_nbformat": 4,
  "vscode": {
   "interpreter": {
    "hash": "31f2aee4e71d21fbe5cf8b01ff0e069b9275f58929596ceb00d14d90e3e16cd6"
   }
  }
 },
 "nbformat": 4,
 "nbformat_minor": 2
}
