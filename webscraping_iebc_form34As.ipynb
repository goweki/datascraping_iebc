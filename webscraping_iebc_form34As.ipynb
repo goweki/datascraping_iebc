{
 "cells": [
  {
   "cell_type": "markdown",
   "metadata": {},
   "source": [
    "# Web scrapping: IEBC form 34As\n",
    "Link: (https://forms.iebc.or.ke/#/)"
   ]
  },
  {
   "cell_type": "code",
   "execution_count": null,
   "metadata": {},
   "outputs": [],
   "source": []
  }
 ],
 "metadata": {
  "kernelspec": {
   "display_name": "Python 3.10.0 64-bit",
   "language": "python",
   "name": "python3"
  },
  "language_info": {
   "name": "python",
   "version": "3.10.0"
  },
  "orig_nbformat": 4,
  "vscode": {
   "interpreter": {
    "hash": "89d2938d0538f9bf393292a823d5adf2e7b67935438429fb096864e90cf79a40"
   }
  }
 },
 "nbformat": 4,
 "nbformat_minor": 2
}
